{
 "cells": [
  {
   "cell_type": "code",
   "execution_count": 3,
   "id": "ad1b765b",
   "metadata": {},
   "outputs": [],
   "source": [
    "#read data files and concatenate them into one csv file. \n",
    "import pandas as pd\n",
    "\n",
    "train=pd.read_table('train.txt', delimiter = ';', header=None)\n",
    "val=pd.read_table('val.txt', delimiter = ';', header=None )\n",
    "test=pd.read_table('test.txt', delimiter = ';', header=None)\n",
    "data = pd.concat([train ,  val ])\n",
    "data.reset_index(drop=True, inplace=True)\n",
    "data.columns = [\"text\", \"label\"]\n",
    "data.to_csv('data.csv')\n",
    "test.reset_index(drop=True, inplace=True)\n",
    "test.columns = [\"text\", \"label\"]\n",
    "test.to_csv('test.csv')"
   ]
  }
 ],
 "metadata": {
  "kernelspec": {
   "display_name": "Python 3 (ipykernel)",
   "language": "python",
   "name": "python3"
  },
  "language_info": {
   "codemirror_mode": {
    "name": "ipython",
    "version": 3
   },
   "file_extension": ".py",
   "mimetype": "text/x-python",
   "name": "python",
   "nbconvert_exporter": "python",
   "pygments_lexer": "ipython3",
   "version": "3.7.11"
  }
 },
 "nbformat": 4,
 "nbformat_minor": 5
}
